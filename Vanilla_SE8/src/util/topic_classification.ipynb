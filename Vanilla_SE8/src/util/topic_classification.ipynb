{
 "cells": [
  {
   "cell_type": "code",
   "execution_count": 1,
   "metadata": {},
   "outputs": [],
   "source": [
    "import pandas as pd\n",
    "import string\n",
    "import nltk\n",
    "from nltk.stem.porter import PorterStemmer\n",
    "from sklearn.feature_extraction.text import CountVectorizer\n",
    "import ray\n",
    "import numpy as np\n",
    "from os import cpu_count"
   ]
  },
  {
   "cell_type": "code",
   "execution_count": 2,
   "metadata": {},
   "outputs": [],
   "source": [
    "import os,sys,inspect\n",
    "currentdir = os.path.dirname(os.path.abspath(inspect.getfile(inspect.currentframe())))\n",
    "parentdir = os.path.dirname(currentdir)\n",
    "sys.path.insert(0,parentdir)\n",
    "from global_variable import REUTERS_CORPUS"
   ]
  },
  {
   "cell_type": "code",
   "execution_count": 4,
   "metadata": {},
   "outputs": [],
   "source": [
    "from string import digits\n",
    "_remove_digits = str.maketrans('', '', digits)\n",
    "\n",
    "STEMMER = PorterStemmer()"
   ]
  },
  {
   "cell_type": "code",
   "execution_count": null,
   "metadata": {},
   "outputs": [],
   "source": [
    "corpus_path = '../' + REUTERS_CORPUS"
   ]
  },
  {
   "cell_type": "code",
   "execution_count": 5,
   "metadata": {},
   "outputs": [
    {
     "ename": "NameError",
     "evalue": "name 'corpus_path' is not defined",
     "output_type": "error",
     "traceback": [
      "\u001b[0;31m---------------------------------------------------------------------------\u001b[0m",
      "\u001b[0;31mNameError\u001b[0m                                 Traceback (most recent call last)",
      "\u001b[0;32m<ipython-input-5-2dfda2f78577>\u001b[0m in \u001b[0;36m<module>\u001b[0;34m\u001b[0m\n\u001b[0;32m----> 1\u001b[0;31m corpus_df = pd.read_csv('../'+corpus_path, names=['doc_id', 'title', 'content', 'topics'], \n\u001b[0m\u001b[1;32m      2\u001b[0m                 \u001b[0mdtype\u001b[0m\u001b[0;34m=\u001b[0m\u001b[0mstr\u001b[0m\u001b[0;34m,\u001b[0m\u001b[0;34m\u001b[0m\u001b[0;34m\u001b[0m\u001b[0m\n\u001b[1;32m      3\u001b[0m                 \u001b[0mna_filter\u001b[0m\u001b[0;34m=\u001b[0m\u001b[0;32mFalse\u001b[0m\u001b[0;34m,\u001b[0m\u001b[0;34m\u001b[0m\u001b[0;34m\u001b[0m\u001b[0m\n\u001b[1;32m      4\u001b[0m                 index_col=False) \n",
      "\u001b[0;31mNameError\u001b[0m: name 'corpus_path' is not defined"
     ]
    }
   ],
   "source": [
    "corpus_df = pd.read_csv(corpus_path, names=['doc_id', 'title', 'content', 'topics'], \n",
    "                dtype=str, \n",
    "                na_filter=False, \n",
    "                index_col=False) "
   ]
  },
  {
   "cell_type": "code",
   "execution_count": null,
   "metadata": {},
   "outputs": [],
   "source": [
    "corpus_df['topics'] = \\\n",
    "    corpus_df['topics'].apply(lambda x: x.replace('[', '').replace(']','').replace(\"'\", '').replace(',',' '))"
   ]
  },
  {
   "cell_type": "code",
   "execution_count": null,
   "metadata": {},
   "outputs": [],
   "source": [
    "chunks = np.array_split(corpus_df, cpu_count())"
   ]
  },
  {
   "cell_type": "code",
   "execution_count": null,
   "metadata": {
    "scrolled": true
   },
   "outputs": [],
   "source": [
    "def _process(s):\n",
    "    s = s.replace('\\n', ' ')\n",
    "    s = s.replace('.', '')\n",
    "    s = s.replace('-', ' ')\n",
    "    s = s.replace(\"'s\", '')\n",
    "    s = s.translate(_remove_digits)\n",
    "    translator = str.maketrans(string.punctuation, ' '*len(string.punctuation))\n",
    "    s = s.lower().strip().translate(translator)\n",
    "    tmp = ' '.join(STEMMER.stem(x) for x in s.split() if x not in nltk.corpus.stopwords.words('english'))\n",
    "    return tmp\n",
    "\n",
    "@ray.remote\n",
    "def worker(df_chunk):\n",
    "    df_chunk['content'] = df_chunk['content'].apply(lambda x: _process(x))\n",
    "    df_chunk['title'] = df_chunk['title'].apply(lambda x: _process(x))\n",
    "    df_chunk['merged'] = df_chunk['title'] + ' ' + df_chunk['content']\n",
    "    df_chunk.drop(columns=['title', 'content'], inplace=True)\n",
    "    return df_chunk"
   ]
  },
  {
   "cell_type": "code",
   "execution_count": null,
   "metadata": {},
   "outputs": [],
   "source": [
    "ray.init(num_cpus=cpu_count())\n",
    "input = [ray.put(chunk) for chunk in chunks]\n",
    "r = ray.get([worker.remote(c) for c in input])\n",
    "ray.shutdown()\n",
    "\n",
    "# corpus_df['content'] = corpus_df['content'].apply(lambda x: _process(x))\n",
    "# corpus_df['title'] = corpus_df['title'].apply(lambda x: _process(x))\n",
    "\n",
    "# corpus_df['merged'] = corpus_df['title'] + ' ' + corpus_df['content']\n",
    "# corpus_df.drop(columns=['title', 'content'], inplace=True)"
   ]
  },
  {
   "cell_type": "code",
   "execution_count": null,
   "metadata": {},
   "outputs": [],
   "source": [
    "corpus_df = pd.concat(r, axis=0)"
   ]
  },
  {
   "cell_type": "code",
   "execution_count": null,
   "metadata": {},
   "outputs": [],
   "source": [
    "topics_dict = {} # k: doc_id, v: [topics]"
   ]
  },
  {
   "cell_type": "code",
   "execution_count": null,
   "metadata": {},
   "outputs": [],
   "source": [
    "# find out those have multiple topics\n",
    "corpus_df['has_multiple_topics'] = corpus_df['topics'].apply(lambda x: True if (len(x.split()) >= 2) else False)\n",
    "\n",
    "tmp = []\n",
    "# handle multiple topics\n",
    "def f(row):\n",
    "    topics = row['topics'].split()\n",
    "    topics_dict[row['doc_id']] = topics\n",
    "    if row['has_multiple_topics']:\n",
    "        for topic in topics:\n",
    "            new_df = pd.DataFrame([[row['doc_id'], topic, row['merged']]], columns=['doc_id','topics','merged'])\n",
    "            tmp.append(new_df)\n",
    "\n",
    "corpus_df.apply(lambda x: f(x), axis=1)\n",
    "\n",
    "corpus_df.drop(corpus_df[corpus_df['has_multiple_topics']].index, inplace=True)\n",
    "corpus_df.drop(columns=['has_multiple_topics'], inplace=True)\n",
    "\n",
    "df_ = pd.concat(tmp)\n",
    "corpus_df = pd.concat([corpus_df, df_])"
   ]
  },
  {
   "cell_type": "code",
   "execution_count": null,
   "metadata": {},
   "outputs": [],
   "source": [
    "training = corpus_df[corpus_df['topics'] != '']\n",
    "to_do = corpus_df[corpus_df['topics'] == '']"
   ]
  },
  {
   "cell_type": "code",
   "execution_count": null,
   "metadata": {},
   "outputs": [],
   "source": [
    "vectorizer = CountVectorizer()\n",
    "X = vectorizer.fit_transform(training['merged'])\n",
    "y = training['topics'].to_numpy()\n",
    "\n",
    "from sklearn.neighbors import KNeighborsClassifier\n",
    "neigh = KNeighborsClassifier()\n",
    "neigh.fit(X, y)\n",
    "\n",
    "X2 = vectorizer.transform(to_do['merged'])"
   ]
  },
  {
   "cell_type": "code",
   "execution_count": null,
   "metadata": {
    "scrolled": true
   },
   "outputs": [],
   "source": [
    "prediction_df = pd.DataFrame(neigh.kneighbors(X2, n_neighbors=2)[1], columns=['topic1', 'topic2'], dtype=int)\n",
    "\n",
    "prediction_df.reset_index(drop=True, inplace=True)\n",
    "to_do.reset_index(drop=True, inplace=True)\n",
    "\n",
    "to_do = pd.concat([prediction_df, to_do], axis=1)"
   ]
  },
  {
   "cell_type": "code",
   "execution_count": null,
   "metadata": {
    "scrolled": true
   },
   "outputs": [],
   "source": [
    "def i2topic(i):\n",
    "    return y[i]\n",
    "\n",
    "def f2(row):\n",
    "    topic1 = i2topic(row['topic1'])\n",
    "    topic2 = i2topic(row['topic2'])\n",
    "    topics_dict[row['doc_id']] = list(set([topic1, topic2]))\n",
    "\n",
    "to_do.apply(lambda x: f2(x), axis=1)"
   ]
  },
  {
   "cell_type": "code",
   "execution_count": null,
   "metadata": {},
   "outputs": [],
   "source": [
    "topic_index = {}\n",
    "\n",
    "def update_topic_index(topic, doc_id):\n",
    "    if topic in topic_index.keys():\n",
    "        topics_dict[topic].append(doc_id)\n",
    "    else:\n",
    "        topics_dict[topic] = [doc_id]\n",
    "\n",
    "for doc_id, topics in topic_dict.items():\n",
    "    for topic in topics:\n",
    "        update_topic_index(topic=topic, doc_id=doc_id)"
   ]
  },
  {
   "cell_type": "code",
   "execution_count": null,
   "metadata": {},
   "outputs": [],
   "source": [
    "with open('../../corpus/topic.idx', 'wb') as f:\n",
    "    pickle.dump(topic_index, f)"
   ]
  },
  {
   "cell_type": "code",
   "execution_count": null,
   "metadata": {
    "scrolled": true
   },
   "outputs": [],
   "source": [
    "topic_index"
   ]
  },
  {
   "cell_type": "code",
   "execution_count": null,
   "metadata": {},
   "outputs": [],
   "source": [
    "import pickle\n",
    "path = '../corpus/topics.dict'\n",
    "with open(path, 'wb') as f:\n",
    "    pickle.dump(topics_dict, f)"
   ]
  },
  {
   "cell_type": "code",
   "execution_count": null,
   "metadata": {},
   "outputs": [],
   "source": [
    "# with open(path, 'rb') as f:\n",
    "#     dct = pickle.load(f)"
   ]
  }
 ],
 "metadata": {
  "kernelspec": {
   "display_name": "Python 3",
   "language": "python",
   "name": "python3"
  },
  "language_info": {
   "codemirror_mode": {
    "name": "ipython",
    "version": 3
   },
   "file_extension": ".py",
   "mimetype": "text/x-python",
   "name": "python",
   "nbconvert_exporter": "python",
   "pygments_lexer": "ipython3",
   "version": "3.7.4"
  }
 },
 "nbformat": 4,
 "nbformat_minor": 2
}
